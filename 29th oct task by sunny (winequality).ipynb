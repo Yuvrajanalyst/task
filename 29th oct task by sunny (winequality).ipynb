{
 "cells": [
  {
   "cell_type": "markdown",
   "id": "465bd694",
   "metadata": {},
   "source": [
    "## 29th oct live class with sunny (winequality)"
   ]
  },
  {
   "cell_type": "code",
   "execution_count": 176,
   "id": "85def5f3",
   "metadata": {},
   "outputs": [],
   "source": [
    "#Import useful libraries\n",
    "import warnings\n",
    "import pandas as pd\n",
    "import numpy as np\n",
    "import seaborn as sns\n",
    "import matplotlib.pyplot as plt"
   ]
  },
  {
   "cell_type": "markdown",
   "id": "333f391e",
   "metadata": {},
   "source": [
    "## read the data "
   ]
  },
  {
   "cell_type": "code",
   "execution_count": 8,
   "id": "59843538",
   "metadata": {},
   "outputs": [],
   "source": [
    "data = pd.read_csv('https://raw.githubusercontent.com/aniruddhachoudhury/Red-Wine-Quality/master/winequality-red.csv')"
   ]
  },
  {
   "cell_type": "code",
   "execution_count": 10,
   "id": "02ff7acf",
   "metadata": {},
   "outputs": [
    {
     "data": {
      "text/html": [
       "<div>\n",
       "<style scoped>\n",
       "    .dataframe tbody tr th:only-of-type {\n",
       "        vertical-align: middle;\n",
       "    }\n",
       "\n",
       "    .dataframe tbody tr th {\n",
       "        vertical-align: top;\n",
       "    }\n",
       "\n",
       "    .dataframe thead th {\n",
       "        text-align: right;\n",
       "    }\n",
       "</style>\n",
       "<table border=\"1\" class=\"dataframe\">\n",
       "  <thead>\n",
       "    <tr style=\"text-align: right;\">\n",
       "      <th></th>\n",
       "      <th>fixed acidity</th>\n",
       "      <th>volatile acidity</th>\n",
       "      <th>citric acid</th>\n",
       "      <th>residual sugar</th>\n",
       "      <th>chlorides</th>\n",
       "      <th>free sulfur dioxide</th>\n",
       "      <th>total sulfur dioxide</th>\n",
       "      <th>density</th>\n",
       "      <th>pH</th>\n",
       "      <th>sulphates</th>\n",
       "      <th>alcohol</th>\n",
       "      <th>quality</th>\n",
       "    </tr>\n",
       "  </thead>\n",
       "  <tbody>\n",
       "    <tr>\n",
       "      <th>0</th>\n",
       "      <td>7.4</td>\n",
       "      <td>0.70</td>\n",
       "      <td>0.0</td>\n",
       "      <td>1.9</td>\n",
       "      <td>0.076</td>\n",
       "      <td>11.0</td>\n",
       "      <td>34.0</td>\n",
       "      <td>0.9978</td>\n",
       "      <td>3.51</td>\n",
       "      <td>0.56</td>\n",
       "      <td>9.4</td>\n",
       "      <td>5</td>\n",
       "    </tr>\n",
       "    <tr>\n",
       "      <th>1</th>\n",
       "      <td>7.8</td>\n",
       "      <td>0.88</td>\n",
       "      <td>0.0</td>\n",
       "      <td>2.6</td>\n",
       "      <td>0.098</td>\n",
       "      <td>25.0</td>\n",
       "      <td>67.0</td>\n",
       "      <td>0.9968</td>\n",
       "      <td>3.20</td>\n",
       "      <td>0.68</td>\n",
       "      <td>9.8</td>\n",
       "      <td>5</td>\n",
       "    </tr>\n",
       "  </tbody>\n",
       "</table>\n",
       "</div>"
      ],
      "text/plain": [
       "   fixed acidity  volatile acidity  citric acid  residual sugar  chlorides  \\\n",
       "0            7.4              0.70          0.0             1.9      0.076   \n",
       "1            7.8              0.88          0.0             2.6      0.098   \n",
       "\n",
       "   free sulfur dioxide  total sulfur dioxide  density    pH  sulphates  \\\n",
       "0                 11.0                  34.0   0.9978  3.51       0.56   \n",
       "1                 25.0                  67.0   0.9968  3.20       0.68   \n",
       "\n",
       "   alcohol  quality  \n",
       "0      9.4        5  \n",
       "1      9.8        5  "
      ]
     },
     "execution_count": 10,
     "metadata": {},
     "output_type": "execute_result"
    }
   ],
   "source": [
    "data.head(2)"
   ]
  },
  {
   "cell_type": "markdown",
   "id": "a711d536",
   "metadata": {},
   "source": [
    "## EDA part of winequality data"
   ]
  },
  {
   "cell_type": "code",
   "execution_count": 14,
   "id": "254e5a49",
   "metadata": {},
   "outputs": [
    {
     "data": {
      "text/plain": [
       "['fixed acidity',\n",
       " 'volatile acidity',\n",
       " 'citric acid',\n",
       " 'residual sugar',\n",
       " 'chlorides',\n",
       " 'free sulfur dioxide',\n",
       " 'total sulfur dioxide',\n",
       " 'density',\n",
       " 'pH',\n",
       " 'sulphates',\n",
       " 'alcohol',\n",
       " 'quality']"
      ]
     },
     "execution_count": 14,
     "metadata": {},
     "output_type": "execute_result"
    }
   ],
   "source": [
    "list(data.columns)"
   ]
  },
  {
   "cell_type": "code",
   "execution_count": 21,
   "id": "74ed6d64",
   "metadata": {},
   "outputs": [
    {
     "name": "stdout",
     "output_type": "stream",
     "text": [
      "<class 'pandas.core.frame.DataFrame'>\n",
      "RangeIndex: 1599 entries, 0 to 1598\n",
      "Data columns (total 12 columns):\n",
      " #   Column                Non-Null Count  Dtype  \n",
      "---  ------                --------------  -----  \n",
      " 0   fixed acidity         1599 non-null   float64\n",
      " 1   volatile acidity      1599 non-null   float64\n",
      " 2   citric acid           1599 non-null   float64\n",
      " 3   residual sugar        1599 non-null   float64\n",
      " 4   chlorides             1599 non-null   float64\n",
      " 5   free sulfur dioxide   1599 non-null   float64\n",
      " 6   total sulfur dioxide  1599 non-null   float64\n",
      " 7   density               1599 non-null   float64\n",
      " 8   pH                    1599 non-null   float64\n",
      " 9   sulphates             1599 non-null   float64\n",
      " 10  alcohol               1599 non-null   float64\n",
      " 11  quality               1599 non-null   int64  \n",
      "dtypes: float64(11), int64(1)\n",
      "memory usage: 150.0 KB\n",
      "None\n",
      "\n",
      "fixed acidity           0\n",
      "volatile acidity        0\n",
      "citric acid             0\n",
      "residual sugar          0\n",
      "chlorides               0\n",
      "free sulfur dioxide     0\n",
      "total sulfur dioxide    0\n",
      "density                 0\n",
      "pH                      0\n",
      "sulphates               0\n",
      "alcohol                 0\n",
      "quality                 0\n",
      "dtype: int64\n"
     ]
    }
   ],
   "source": [
    "print(data.info())\n",
    "print()\n",
    "print(data.isnull().sum())"
   ]
  },
  {
   "cell_type": "code",
   "execution_count": 19,
   "id": "22406b14",
   "metadata": {},
   "outputs": [
    {
     "name": "stdout",
     "output_type": "stream",
     "text": [
      "5    681\n",
      "6    638\n",
      "7    199\n",
      "4     53\n",
      "8     18\n",
      "3     10\n",
      "Name: quality, dtype: int64\n",
      "\n",
      "[5 6 7 4 8 3]\n"
     ]
    }
   ],
   "source": [
    "print(data['quality'].value_counts())\n",
    "print()\n",
    "print(data['quality'].unique())"
   ]
  },
  {
   "cell_type": "code",
   "execution_count": 37,
   "id": "6de5c510",
   "metadata": {},
   "outputs": [
    {
     "data": {
      "text/html": [
       "<div>\n",
       "<style scoped>\n",
       "    .dataframe tbody tr th:only-of-type {\n",
       "        vertical-align: middle;\n",
       "    }\n",
       "\n",
       "    .dataframe tbody tr th {\n",
       "        vertical-align: top;\n",
       "    }\n",
       "\n",
       "    .dataframe thead th {\n",
       "        text-align: right;\n",
       "    }\n",
       "</style>\n",
       "<table border=\"1\" class=\"dataframe\">\n",
       "  <thead>\n",
       "    <tr style=\"text-align: right;\">\n",
       "      <th></th>\n",
       "      <th>count</th>\n",
       "      <th>mean</th>\n",
       "      <th>std</th>\n",
       "      <th>min</th>\n",
       "      <th>25%</th>\n",
       "      <th>50%</th>\n",
       "      <th>75%</th>\n",
       "      <th>max</th>\n",
       "    </tr>\n",
       "  </thead>\n",
       "  <tbody>\n",
       "    <tr>\n",
       "      <th>fixed acidity</th>\n",
       "      <td>1599.0</td>\n",
       "      <td>8.320</td>\n",
       "      <td>1.741</td>\n",
       "      <td>4.600</td>\n",
       "      <td>7.100</td>\n",
       "      <td>7.900</td>\n",
       "      <td>9.200</td>\n",
       "      <td>15.900</td>\n",
       "    </tr>\n",
       "    <tr>\n",
       "      <th>volatile acidity</th>\n",
       "      <td>1599.0</td>\n",
       "      <td>0.528</td>\n",
       "      <td>0.179</td>\n",
       "      <td>0.120</td>\n",
       "      <td>0.390</td>\n",
       "      <td>0.520</td>\n",
       "      <td>0.640</td>\n",
       "      <td>1.580</td>\n",
       "    </tr>\n",
       "    <tr>\n",
       "      <th>citric acid</th>\n",
       "      <td>1599.0</td>\n",
       "      <td>0.271</td>\n",
       "      <td>0.195</td>\n",
       "      <td>0.000</td>\n",
       "      <td>0.090</td>\n",
       "      <td>0.260</td>\n",
       "      <td>0.420</td>\n",
       "      <td>1.000</td>\n",
       "    </tr>\n",
       "    <tr>\n",
       "      <th>residual sugar</th>\n",
       "      <td>1599.0</td>\n",
       "      <td>2.539</td>\n",
       "      <td>1.410</td>\n",
       "      <td>0.900</td>\n",
       "      <td>1.900</td>\n",
       "      <td>2.200</td>\n",
       "      <td>2.600</td>\n",
       "      <td>15.500</td>\n",
       "    </tr>\n",
       "    <tr>\n",
       "      <th>chlorides</th>\n",
       "      <td>1599.0</td>\n",
       "      <td>0.087</td>\n",
       "      <td>0.047</td>\n",
       "      <td>0.012</td>\n",
       "      <td>0.070</td>\n",
       "      <td>0.079</td>\n",
       "      <td>0.090</td>\n",
       "      <td>0.611</td>\n",
       "    </tr>\n",
       "    <tr>\n",
       "      <th>free sulfur dioxide</th>\n",
       "      <td>1599.0</td>\n",
       "      <td>15.875</td>\n",
       "      <td>10.460</td>\n",
       "      <td>1.000</td>\n",
       "      <td>7.000</td>\n",
       "      <td>14.000</td>\n",
       "      <td>21.000</td>\n",
       "      <td>72.000</td>\n",
       "    </tr>\n",
       "    <tr>\n",
       "      <th>total sulfur dioxide</th>\n",
       "      <td>1599.0</td>\n",
       "      <td>46.468</td>\n",
       "      <td>32.895</td>\n",
       "      <td>6.000</td>\n",
       "      <td>22.000</td>\n",
       "      <td>38.000</td>\n",
       "      <td>62.000</td>\n",
       "      <td>289.000</td>\n",
       "    </tr>\n",
       "    <tr>\n",
       "      <th>density</th>\n",
       "      <td>1599.0</td>\n",
       "      <td>0.997</td>\n",
       "      <td>0.002</td>\n",
       "      <td>0.990</td>\n",
       "      <td>0.996</td>\n",
       "      <td>0.997</td>\n",
       "      <td>0.998</td>\n",
       "      <td>1.004</td>\n",
       "    </tr>\n",
       "    <tr>\n",
       "      <th>pH</th>\n",
       "      <td>1599.0</td>\n",
       "      <td>3.311</td>\n",
       "      <td>0.154</td>\n",
       "      <td>2.740</td>\n",
       "      <td>3.210</td>\n",
       "      <td>3.310</td>\n",
       "      <td>3.400</td>\n",
       "      <td>4.010</td>\n",
       "    </tr>\n",
       "    <tr>\n",
       "      <th>sulphates</th>\n",
       "      <td>1599.0</td>\n",
       "      <td>0.658</td>\n",
       "      <td>0.170</td>\n",
       "      <td>0.330</td>\n",
       "      <td>0.550</td>\n",
       "      <td>0.620</td>\n",
       "      <td>0.730</td>\n",
       "      <td>2.000</td>\n",
       "    </tr>\n",
       "    <tr>\n",
       "      <th>alcohol</th>\n",
       "      <td>1599.0</td>\n",
       "      <td>10.423</td>\n",
       "      <td>1.066</td>\n",
       "      <td>8.400</td>\n",
       "      <td>9.500</td>\n",
       "      <td>10.200</td>\n",
       "      <td>11.100</td>\n",
       "      <td>14.900</td>\n",
       "    </tr>\n",
       "    <tr>\n",
       "      <th>quality</th>\n",
       "      <td>1599.0</td>\n",
       "      <td>5.636</td>\n",
       "      <td>0.808</td>\n",
       "      <td>3.000</td>\n",
       "      <td>5.000</td>\n",
       "      <td>6.000</td>\n",
       "      <td>6.000</td>\n",
       "      <td>8.000</td>\n",
       "    </tr>\n",
       "  </tbody>\n",
       "</table>\n",
       "</div>"
      ],
      "text/plain": [
       "                       count    mean     std    min     25%     50%     75%  \\\n",
       "fixed acidity         1599.0   8.320   1.741  4.600   7.100   7.900   9.200   \n",
       "volatile acidity      1599.0   0.528   0.179  0.120   0.390   0.520   0.640   \n",
       "citric acid           1599.0   0.271   0.195  0.000   0.090   0.260   0.420   \n",
       "residual sugar        1599.0   2.539   1.410  0.900   1.900   2.200   2.600   \n",
       "chlorides             1599.0   0.087   0.047  0.012   0.070   0.079   0.090   \n",
       "free sulfur dioxide   1599.0  15.875  10.460  1.000   7.000  14.000  21.000   \n",
       "total sulfur dioxide  1599.0  46.468  32.895  6.000  22.000  38.000  62.000   \n",
       "density               1599.0   0.997   0.002  0.990   0.996   0.997   0.998   \n",
       "pH                    1599.0   3.311   0.154  2.740   3.210   3.310   3.400   \n",
       "sulphates             1599.0   0.658   0.170  0.330   0.550   0.620   0.730   \n",
       "alcohol               1599.0  10.423   1.066  8.400   9.500  10.200  11.100   \n",
       "quality               1599.0   5.636   0.808  3.000   5.000   6.000   6.000   \n",
       "\n",
       "                          max  \n",
       "fixed acidity          15.900  \n",
       "volatile acidity        1.580  \n",
       "citric acid             1.000  \n",
       "residual sugar         15.500  \n",
       "chlorides               0.611  \n",
       "free sulfur dioxide    72.000  \n",
       "total sulfur dioxide  289.000  \n",
       "density                 1.004  \n",
       "pH                      4.010  \n",
       "sulphates               2.000  \n",
       "alcohol                14.900  \n",
       "quality                 8.000  "
      ]
     },
     "execution_count": 37,
     "metadata": {},
     "output_type": "execute_result"
    }
   ],
   "source": [
    "round(data.describe(),3).T"
   ]
  },
  {
   "cell_type": "markdown",
   "id": "0858f803",
   "metadata": {},
   "source": [
    "## spliting data into x and y (dependent and independent variables)"
   ]
  },
  {
   "cell_type": "code",
   "execution_count": 79,
   "id": "4f774945",
   "metadata": {},
   "outputs": [
    {
     "name": "stdout",
     "output_type": "stream",
     "text": [
      "\n"
     ]
    }
   ],
   "source": [
    "# split the data in x and y variabe first\n",
    "x = data.iloc[:,:11]\n",
    "y = data.iloc[:,-1]\n",
    "print()"
   ]
  },
  {
   "cell_type": "markdown",
   "id": "1d1b5ddc",
   "metadata": {},
   "source": [
    "## devide data into dependent and independent variables"
   ]
  },
  {
   "cell_type": "code",
   "execution_count": 41,
   "id": "4356f263",
   "metadata": {},
   "outputs": [],
   "source": [
    "#import train test spilit from skitlearn\n",
    "from sklearn.model_selection import train_test_split"
   ]
  },
  {
   "cell_type": "code",
   "execution_count": 101,
   "id": "e959e56b",
   "metadata": {},
   "outputs": [
    {
     "name": "stdout",
     "output_type": "stream",
     "text": [
      "\n"
     ]
    }
   ],
   "source": [
    "xtrain, xtest, ytrain, ytest = train_test_split(x,y, random_state=42, test_size=0.33)\n",
    "print()"
   ]
  },
  {
   "cell_type": "raw",
   "id": "dda3b133",
   "metadata": {},
   "source": [
    "# some variables has min values and max values are level are veru far:\n",
    "# we have to standardiz all them\n",
    "\n",
    "                     min     25%    50%     75%    max\n",
    "free sulfur dioxide  1.000 \t7.000 \t14.000 \t21.000 \t72.000\n",
    "total sulfur dioxide 6.000 \t22.000 \t38.000 \t62.000 \t289.000"
   ]
  },
  {
   "cell_type": "code",
   "execution_count": 179,
   "id": "8314a49b",
   "metadata": {},
   "outputs": [
    {
     "data": {
      "image/png": "[encoded data removed]",
      "text/plain": [
       "<Figure size 1000x800 with 2 Axes>"
      ]
     },
     "metadata": {},
     "output_type": "display_data"
    }
   ],
   "source": [
    "# Checking correlation between variables\n",
    "plt.figure(figsize = (10,8))\n",
    "sns.heatmap(x.corr(), annot=True)\n",
    "plt.show()"
   ]
  },
  {
   "cell_type": "markdown",
   "id": "da0a7348",
   "metadata": {},
   "source": [
    "## Perfoming standard scaler"
   ]
  },
  {
   "cell_type": "code",
   "execution_count": 102,
   "id": "dc1706d9",
   "metadata": {},
   "outputs": [],
   "source": [
    "# import standard scaler from skitlearn\n",
    "from sklearn.preprocessing import StandardScaler\n",
    "\n",
    "#create object this class\n",
    "scaler = StandardScaler()"
   ]
  },
  {
   "cell_type": "code",
   "execution_count": 103,
   "id": "b93edd1a",
   "metadata": {},
   "outputs": [
    {
     "name": "stdout",
     "output_type": "stream",
     "text": [
      "[ 8.30345472  0.53246499  0.26933707  2.54691877  0.08772736 15.91223156\n",
      " 46.76330532  0.99677933  3.31453782  0.65881419 10.41521942]\n"
     ]
    }
   ],
   "source": [
    "xtrain_scaler = scaler.fit(xtrain)\n",
    "print(xtrain_scaler.mean_)"
   ]
  },
  {
   "cell_type": "code",
   "execution_count": 108,
   "id": "40c6c92c",
   "metadata": {},
   "outputs": [
    {
     "data": {
      "text/plain": [
       "fixed acidity            8.303455\n",
       "volatile acidity         0.532465\n",
       "citric acid              0.269337\n",
       "residual sugar           2.546919\n",
       "chlorides                0.087727\n",
       "free sulfur dioxide     15.912232\n",
       "total sulfur dioxide    46.763305\n",
       "density                  0.996779\n",
       "pH                       3.314538\n",
       "sulphates                0.658814\n",
       "alcohol                 10.415219\n",
       "dtype: float64"
      ]
     },
     "execution_count": 108,
     "metadata": {},
     "output_type": "execute_result"
    }
   ],
   "source": [
    "np.mean(xtrain)"
   ]
  },
  {
   "cell_type": "code",
   "execution_count": 142,
   "id": "8b953658",
   "metadata": {},
   "outputs": [],
   "source": [
    "xtrain_transfrom = scaler.fit_transform(xtrain)\n",
    "xtest_transform = scaler.fit_transform(xtest)"
   ]
  },
  {
   "cell_type": "markdown",
   "id": "36b031e7",
   "metadata": {},
   "source": [
    "####  We are come so far now time to bulid the model\n",
    "## We are using SVM model for this data"
   ]
  },
  {
   "cell_type": "code",
   "execution_count": 154,
   "id": "004d7bdb",
   "metadata": {},
   "outputs": [],
   "source": [
    "# import SVC( support vector classifier) from skitlearn Support vector machine \n",
    "from sklearn.svm import SVC\n",
    "model = SVC()"
   ]
  },
  {
   "cell_type": "code",
   "execution_count": 155,
   "id": "f3a0800d",
   "metadata": {},
   "outputs": [
    {
     "data": {
      "text/plain": [
       "SVC()"
      ]
     },
     "execution_count": 155,
     "metadata": {},
     "output_type": "execute_result"
    }
   ],
   "source": [
    "model.fit(xtrain_transfrom, ytrain)"
   ]
  },
  {
   "cell_type": "code",
   "execution_count": 166,
   "id": "0527dca3",
   "metadata": {},
   "outputs": [
    {
     "name": "stdout",
     "output_type": "stream",
     "text": [
      "Model Score: 0.6778711484593838\n"
     ]
    }
   ],
   "source": [
    "#Let's check model score\n",
    "print('Model Score:',model.score(xtrain_transfrom, ytrain))"
   ]
  },
  {
   "cell_type": "code",
   "execution_count": 157,
   "id": "eaa0fba5",
   "metadata": {},
   "outputs": [
    {
     "name": "stdout",
     "output_type": "stream",
     "text": [
      "[5 5 6 5 6 5 5 5 6 6 6 5 6 5 5 6 5 5 7 5 5 5 6 6 5 5 6 5 5 6 5 5 6 5 6 5 6\n",
      " 6 5 6 5 5 6 5 6 6 6 5 5 6 5 5 6 7 5 5 6 5 6 5 6 6 5 5 6 5 6 5 6 5 6 5 6 6\n",
      " 6 5 7 5 6 7 5 7 5 5 6 6 5 6 6 5 6 5 5 6 5 5 5 6 5 5 5 5 6 6 6 6 6 5 5 5 6\n",
      " 5 6 5 6 6 6 5 5 6 6 6 6 5 5 5 6 5 5 6 6 5 5 6 6 5 5 5 5 6 6 6 6 5 6 5 6 5\n",
      " 6 5 6 6 5 6 6 6 5 6 5 6 6 6 6 5 5 6 5 5 5 5 5 5 6 5 7 6 6 5 5 5 5 6 5 7 5\n",
      " 6 5 6 7 5 6 6 5 6 6 5 5 5 6 6 5 5 5 5 7 6 5 5 6 6 7 5 6 6 6 6 6 5 6 5 5 6\n",
      " 6 6 5 5 5 7 5 5 5 5 6 6 5 6 5 6 6 5 5 5 6 6 5 6 6 5 6 5 6 5 5 5 5 5 5 6 6\n",
      " 6 6 6 5 7 6 6 5 5 6 6 5 6 5 5 5 5 6 6 6 5 7 5 5 5 5 6 5 6 5 6 5 7 6 5 5 6\n",
      " 5 6 6 7 5 5 6 5 5 5 6 6 6 7 5 5 6 5 5 6 5 5 6 5 6 5 6 5 5 5 6 5 5 6 6 7 5\n",
      " 5 6 6 6 6 5 5 6 7 5 5 6 5 6 5 6 6 6 6 5 5 6 6 5 5 5 5 5 5 5 6 5 6 6 5 5 5\n",
      " 5 5 6 6 5 6 5 6 5 5 5 6 6 5 6 6 6 5 5 6 5 5 5 5 6 6 7 6 5 6 5 5 6 5 5 6 7\n",
      " 6 5 5 6 6 6 6 6 6 5 7 5 6 6 5 5 5 6 6 5 5 6 5 7 5 5 5 6 5 5 5 5 6 5 6 6 5\n",
      " 5 5 5 6 6 5 6 6 5 5 5 6 7 6 6 5 5 5 5 5 6 5 5 5 5 6 7 6 6 6 5 6 6 6 6 5 6\n",
      " 6 6 6 5 6 6 6 5 5 6 6 5 5 6 5 6 5 5 5 5 5 5 5 5 5 6 6 6 6 6 6 5 5 5 7 6 6\n",
      " 6 5 5 5 6 6 7 7 5 5]\n",
      "\n",
      "803     6\n",
      "124     5\n",
      "350     6\n",
      "682     5\n",
      "1326    6\n",
      "       ..\n",
      "813     4\n",
      "377     7\n",
      "898     7\n",
      "126     5\n",
      "819     5\n",
      "Name: quality, Length: 528, dtype: int64\n"
     ]
    }
   ],
   "source": [
    "ypredict = model.predict(xtest_transform)\n",
    "print(ypredict)\n",
    "print()\n",
    "print(ytest)"
   ]
  },
  {
   "cell_type": "markdown",
   "id": "84be5b62",
   "metadata": {},
   "source": [
    "## Checking performance score using matrics function"
   ]
  },
  {
   "cell_type": "code",
   "execution_count": 158,
   "id": "81723cdf",
   "metadata": {},
   "outputs": [],
   "source": [
    "from sklearn.metrics import accuracy_score, confusion_matrix"
   ]
  },
  {
   "cell_type": "code",
   "execution_count": 159,
   "id": "79ce1a29",
   "metadata": {},
   "outputs": [
    {
     "data": {
      "text/plain": [
       "0.5871212121212122"
      ]
     },
     "execution_count": 159,
     "metadata": {},
     "output_type": "execute_result"
    }
   ],
   "source": [
    "accuracy_score(ytest,ypredict)"
   ]
  },
  {
   "cell_type": "markdown",
   "id": "1d2152d2",
   "metadata": {},
   "source": [
    "## Let's check the same data using Logistic Regression"
   ]
  },
  {
   "cell_type": "code",
   "execution_count": 161,
   "id": "fc36e3df",
   "metadata": {},
   "outputs": [],
   "source": [
    "from sklearn.linear_model import LogisticRegression\n",
    "model2 = LogisticRegression()"
   ]
  },
  {
   "cell_type": "code",
   "execution_count": 162,
   "id": "ff363694",
   "metadata": {},
   "outputs": [
    {
     "data": {
      "text/plain": [
       "LogisticRegression()"
      ]
     },
     "execution_count": 162,
     "metadata": {},
     "output_type": "execute_result"
    }
   ],
   "source": [
    "model2.fit(xtrain_transfrom, ytrain)"
   ]
  },
  {
   "cell_type": "code",
   "execution_count": 169,
   "id": "ed143a48",
   "metadata": {},
   "outputs": [],
   "source": [
    "ypredict2 = model2.predict(xtest_transform)"
   ]
  },
  {
   "cell_type": "code",
   "execution_count": 170,
   "id": "910c4b0f",
   "metadata": {},
   "outputs": [
    {
     "data": {
      "text/plain": [
       "0.5757575757575758"
      ]
     },
     "execution_count": 170,
     "metadata": {},
     "output_type": "execute_result"
    }
   ],
   "source": [
    "accuracy_score(ytest, ypredict2)"
   ]
  },
  {
   "cell_type": "code",
   "execution_count": 211,
   "id": "2afae726",
   "metadata": {},
   "outputs": [],
   "source": [
    "from sklearn.svm import SVR\n",
    "model3 = SVR()"
   ]
  },
  {
   "cell_type": "code",
   "execution_count": 212,
   "id": "f098e106",
   "metadata": {},
   "outputs": [
    {
     "data": {
      "text/plain": [
       "SVR()"
      ]
     },
     "execution_count": 212,
     "metadata": {},
     "output_type": "execute_result"
    }
   ],
   "source": [
    "model3.fit(xtrain_transfrom, ytrain)"
   ]
  },
  {
   "cell_type": "code",
   "execution_count": 214,
   "id": "1734c801",
   "metadata": {},
   "outputs": [
    {
     "data": {
      "text/plain": [
       "array([5.48925027, 5.01907508, 5.58178719, 5.22133586, 5.65955663,\n",
       "       5.09749732, 4.93131699, 4.80972565, 5.78862759, 5.6877033 ,\n",
       "       6.16575481, 5.0687256 , 5.62377231, 5.09268632, 5.34575508,\n",
       "       6.54013545, 5.17658359, 5.43512428, 6.81675769, 4.93807806,\n",
       "       4.8359918 , 5.23723114, 5.59631181, 6.3484171 , 5.39989869,\n",
       "       5.72732457, 6.25929145, 5.1706503 , 4.92606772, 6.0492732 ,\n",
       "       5.14022737, 4.97597377, 5.84455714, 4.82037606, 5.65127537,\n",
       "       5.00968428, 6.40226904, 5.80659103, 5.34360925, 6.10713555,\n",
       "       5.34326697, 5.23832884, 6.05763291, 5.08483454, 5.92085997,\n",
       "       5.92788225, 6.4786042 , 5.48130942, 5.04720706, 5.54134171,\n",
       "       4.90468995, 5.10443153, 5.75469712, 6.8876689 , 4.96110969,\n",
       "       5.13163492, 6.18808814, 5.50939102, 5.8086715 , 5.0889935 ,\n",
       "       5.61859973, 5.94712444, 5.09555606, 5.1169297 , 6.43840881,\n",
       "       5.04281595, 6.43850592, 5.47043283, 6.54145703, 5.25512847,\n",
       "       6.06969996, 5.06719209, 5.79248273, 5.66271304, 6.22718048,\n",
       "       5.05478085, 6.66505595, 5.59170211, 6.11891964, 6.58160585,\n",
       "       5.13144644, 6.63592019, 5.31202991, 5.39214477, 6.10361061,\n",
       "       6.45507289, 5.04699458, 6.08855048, 6.49260759, 4.91337091,\n",
       "       6.29890907, 5.38818265, 5.13655742, 5.37633547, 5.31592223,\n",
       "       5.6405031 , 5.10258952, 5.54746337, 5.1759333 , 5.50636501,\n",
       "       4.90099793, 4.97209589, 5.81613085, 5.79559284, 5.49947526,\n",
       "       6.19795059, 5.82857497, 5.31313212, 5.74845666, 5.45966178,\n",
       "       6.25796605, 5.00431813, 5.92288253, 4.89958889, 5.38288996,\n",
       "       6.07328156, 6.21047068, 5.38822195, 4.88567647, 5.92049005,\n",
       "       6.12461942, 5.69121244, 5.82932559, 5.04532816, 5.34540655,\n",
       "       5.10696092, 6.26895061, 5.66894579, 5.09082074, 5.76312661,\n",
       "       5.79248273, 5.12373967, 5.05081707, 6.34495058, 5.54134171,\n",
       "       5.06696129, 4.84502465, 5.16721293, 5.10820058, 5.85139347,\n",
       "       6.04613578, 6.38150437, 6.45577088, 5.20060931, 5.92288846,\n",
       "       5.17934769, 6.03131084, 5.42699255, 5.81920692, 5.0559361 ,\n",
       "       5.74318268, 6.23973931, 5.22987605, 5.75634337, 5.79248273,\n",
       "       6.14227428, 5.22551827, 5.92059338, 5.20706891, 5.92690152,\n",
       "       6.53708276, 5.79247274, 6.34530242, 5.01413595, 5.24838086,\n",
       "       5.59238918, 5.01760221, 4.9419206 , 4.95430995, 5.04423312,\n",
       "       5.0365819 , 4.6078294 , 6.38334562, 5.20774475, 6.37840493,\n",
       "       5.84665771, 6.0014188 , 5.06653284, 5.12394894, 5.23060827,\n",
       "       4.69512781, 6.63039064, 5.39155424, 6.74132583, 4.80445387,\n",
       "       6.42991443, 5.42248789, 5.93052695, 6.8704442 , 5.20774475,\n",
       "       5.53858144, 6.16815178, 5.39762559, 6.66897394, 5.56284867,\n",
       "       4.95219523, 4.69431774, 5.35615661, 5.56582334, 6.19795059,\n",
       "       5.34793218, 4.97523526, 5.19297801, 5.01705609, 6.82235471,\n",
       "       5.53420423, 5.05189417, 5.30493956, 5.87322564, 5.96147795,\n",
       "       6.728112  , 4.93398495, 5.57327421, 6.34852206, 6.2582654 ,\n",
       "       5.8075348 , 5.90690232, 4.99783951, 5.73118083, 5.52468883,\n",
       "       5.12629851, 6.10879252, 6.2315748 , 5.97494526, 5.24435239,\n",
       "       4.89540325, 5.0023535 , 6.69890146, 5.19900257, 5.23080876,\n",
       "       5.24807107, 4.91473481, 6.50258679, 6.00280718, 5.16531223,\n",
       "       6.19795059, 5.0780571 , 6.10361061, 5.88041075, 5.04539178,\n",
       "       5.28017345, 4.93802027, 5.72893268, 6.06129946, 5.27643185,\n",
       "       6.00056117, 5.50191801, 5.23526138, 6.54270675, 5.07742104,\n",
       "       5.70465674, 5.27755155, 5.58627656, 5.58244551, 5.06616478,\n",
       "       5.31436072, 5.30908459, 5.67846664, 5.71493904, 6.14952632,\n",
       "       6.21571533, 5.9829177 , 5.06653284, 6.8509373 , 6.09091559,\n",
       "       6.49396276, 5.52758749, 5.18924001, 5.93523998, 6.43437739,\n",
       "       4.91019639, 5.44687758, 5.40230202, 5.10577224, 5.16028056,\n",
       "       4.92012525, 5.52069239, 6.25667093, 6.33177384, 5.40143349,\n",
       "       6.85766332, 5.30438687, 5.42624839, 5.4729676 , 5.45969013,\n",
       "       6.03733158, 5.04400533, 6.38150437, 4.94882367, 5.85479292,\n",
       "       5.4830907 , 6.67979162, 6.09035603, 5.33276373, 5.05262252,\n",
       "       6.46098671, 5.11351821, 6.28200464, 6.36076968, 6.63346808,\n",
       "       5.0672556 , 4.98769175, 6.49532427, 5.02124181, 5.3080551 ,\n",
       "       5.13291113, 5.9134642 , 5.95256619, 5.72881193, 6.61393552,\n",
       "       5.42365011, 5.3436278 , 5.46533868, 5.46833453, 4.82037606,\n",
       "       6.07091615, 5.07578955, 5.10301756, 6.42340307, 5.21649646,\n",
       "       5.88963129, 5.93613804, 5.61938664, 4.70811003, 4.77595056,\n",
       "       5.11401103, 6.3102708 , 5.4801281 , 5.13163492, 6.0492732 ,\n",
       "       5.80014904, 6.61393552, 5.19980355, 5.11605292, 5.65181064,\n",
       "       5.85078334, 5.94193006, 5.83971543, 4.93004766, 5.15100042,\n",
       "       6.47433039, 6.81117132, 5.13655742, 5.35848998, 6.13489776,\n",
       "       5.08972942, 6.22718048, 5.2451776 , 5.62424598, 5.65640909,\n",
       "       5.78254359, 6.46794165, 5.03507919, 5.52666793, 5.49758409,\n",
       "       5.79481097, 5.56805715, 5.48447244, 5.13763368, 5.09459143,\n",
       "       5.48085034, 5.23263521, 4.81573923, 5.54080711, 5.12531038,\n",
       "       6.29212162, 5.85571757, 5.45801363, 5.10317414, 5.03383347,\n",
       "       5.19659665, 4.6078294 , 6.05946055, 5.36047494, 5.3381714 ,\n",
       "       6.10713555, 5.07822717, 5.76959044, 5.20063451, 5.12994414,\n",
       "       4.95937902, 5.82679389, 6.45500557, 5.33881414, 6.38764004,\n",
       "       6.10151707, 6.23446946, 5.12071464, 5.19836863, 5.96901962,\n",
       "       5.19665903, 5.40420803, 4.86559398, 5.45753332, 5.90503118,\n",
       "       6.03117113, 6.69307176, 5.65127537, 5.45103464, 6.29420523,\n",
       "       4.78302651, 4.94267055, 5.81720954, 5.05670132, 5.49458218,\n",
       "       6.06412466, 6.58969804, 6.05207694, 5.31041842, 5.35014806,\n",
       "       5.55837299, 6.7308027 , 6.15126198, 5.99516606, 5.56288921,\n",
       "       6.27340792, 5.41574988, 6.87694366, 5.13515022, 6.33454467,\n",
       "       6.28416623, 5.02664976, 5.59691277, 5.07040053, 5.49587849,\n",
       "       5.44579545, 4.79933431, 5.0195388 , 5.79559284, 4.99005929,\n",
       "       6.8876393 , 5.11466181, 5.16422087, 5.0681118 , 6.54330936,\n",
       "       5.18874841, 5.27893279, 5.18079842, 5.19157164, 5.98151042,\n",
       "       5.46380737, 6.31247555, 6.33978831, 4.94328757, 5.34886911,\n",
       "       5.17885541, 5.39462509, 5.45825509, 5.88948577, 5.29603395,\n",
       "       6.36448433, 6.10592728, 5.31590551, 5.05045346, 5.32410687,\n",
       "       6.43550011, 6.73318282, 5.62005087, 5.74601053, 5.04492898,\n",
       "       4.92423903, 5.24431969, 5.49550703, 5.10132039, 5.59242983,\n",
       "       4.95493399, 5.40329687, 5.38277648, 5.62928802, 6.21204052,\n",
       "       6.6928037 , 5.52646527, 5.85078334, 5.85093168, 5.20513833,\n",
       "       5.50544345, 6.02733403, 5.65955663, 6.16575481, 5.31822163,\n",
       "       6.06957063, 6.23990336, 5.64222086, 5.42274741, 5.25584457,\n",
       "       5.69762031, 6.49514681, 5.9548141 , 5.0780571 , 5.09551479,\n",
       "       6.5239508 , 5.75634337, 5.08472652, 5.08416758, 6.1919094 ,\n",
       "       5.13855869, 6.04613578, 4.97623828, 4.927194  , 4.98375222,\n",
       "       5.0448273 , 5.4446044 , 5.1720781 , 5.03507919, 5.3727053 ,\n",
       "       5.23856218, 5.72605838, 5.54080711, 6.55870807, 6.08221992,\n",
       "       5.77015866, 6.55870807, 5.16318909, 4.9373367 , 5.46114905,\n",
       "       6.64616711, 5.59550031, 5.85704586, 5.50544345, 4.97177136,\n",
       "       5.74415381, 5.27920465, 6.18489266, 5.88907082, 6.82522799,\n",
       "       6.86751753, 4.93335965, 5.25573823])"
      ]
     },
     "execution_count": 214,
     "metadata": {},
     "output_type": "execute_result"
    }
   ],
   "source": [
    "ypredict3 = model3.predict(xtest_transform)\n",
    "ypredict3"
   ]
  },
  {
   "cell_type": "code",
   "execution_count": 215,
   "id": "006ebfdd",
   "metadata": {},
   "outputs": [
    {
     "ename": "ValueError",
     "evalue": "Classification metrics can't handle a mix of multiclass and continuous targets",
     "output_type": "error",
     "traceback": [
      "\u001b[1;31m---------------------------------------------------------------------------\u001b[0m",
      "\u001b[1;31mValueError\u001b[0m                                Traceback (most recent call last)",
      "Cell \u001b[1;32mIn [215], line 1\u001b[0m\n\u001b[1;32m----> 1\u001b[0m \u001b[43maccuracy_score\u001b[49m\u001b[43m(\u001b[49m\u001b[43mytest\u001b[49m\u001b[43m,\u001b[49m\u001b[43m \u001b[49m\u001b[43mypredict3\u001b[49m\u001b[43m)\u001b[49m\n",
      "File \u001b[1;32m~\\anaconda3\\lib\\site-packages\\sklearn\\metrics\\_classification.py:211\u001b[0m, in \u001b[0;36maccuracy_score\u001b[1;34m(y_true, y_pred, normalize, sample_weight)\u001b[0m\n\u001b[0;32m    145\u001b[0m \u001b[38;5;124;03m\"\"\"Accuracy classification score.\u001b[39;00m\n\u001b[0;32m    146\u001b[0m \n\u001b[0;32m    147\u001b[0m \u001b[38;5;124;03mIn multilabel classification, this function computes subset accuracy:\u001b[39;00m\n\u001b[1;32m   (...)\u001b[0m\n\u001b[0;32m    207\u001b[0m \u001b[38;5;124;03m0.5\u001b[39;00m\n\u001b[0;32m    208\u001b[0m \u001b[38;5;124;03m\"\"\"\u001b[39;00m\n\u001b[0;32m    210\u001b[0m \u001b[38;5;66;03m# Compute accuracy for each possible representation\u001b[39;00m\n\u001b[1;32m--> 211\u001b[0m y_type, y_true, y_pred \u001b[38;5;241m=\u001b[39m \u001b[43m_check_targets\u001b[49m\u001b[43m(\u001b[49m\u001b[43my_true\u001b[49m\u001b[43m,\u001b[49m\u001b[43m \u001b[49m\u001b[43my_pred\u001b[49m\u001b[43m)\u001b[49m\n\u001b[0;32m    212\u001b[0m check_consistent_length(y_true, y_pred, sample_weight)\n\u001b[0;32m    213\u001b[0m \u001b[38;5;28;01mif\u001b[39;00m y_type\u001b[38;5;241m.\u001b[39mstartswith(\u001b[38;5;124m\"\u001b[39m\u001b[38;5;124mmultilabel\u001b[39m\u001b[38;5;124m\"\u001b[39m):\n",
      "File \u001b[1;32m~\\anaconda3\\lib\\site-packages\\sklearn\\metrics\\_classification.py:93\u001b[0m, in \u001b[0;36m_check_targets\u001b[1;34m(y_true, y_pred)\u001b[0m\n\u001b[0;32m     90\u001b[0m     y_type \u001b[38;5;241m=\u001b[39m {\u001b[38;5;124m\"\u001b[39m\u001b[38;5;124mmulticlass\u001b[39m\u001b[38;5;124m\"\u001b[39m}\n\u001b[0;32m     92\u001b[0m \u001b[38;5;28;01mif\u001b[39;00m \u001b[38;5;28mlen\u001b[39m(y_type) \u001b[38;5;241m>\u001b[39m \u001b[38;5;241m1\u001b[39m:\n\u001b[1;32m---> 93\u001b[0m     \u001b[38;5;28;01mraise\u001b[39;00m \u001b[38;5;167;01mValueError\u001b[39;00m(\n\u001b[0;32m     94\u001b[0m         \u001b[38;5;124m\"\u001b[39m\u001b[38;5;124mClassification metrics can\u001b[39m\u001b[38;5;124m'\u001b[39m\u001b[38;5;124mt handle a mix of \u001b[39m\u001b[38;5;132;01m{0}\u001b[39;00m\u001b[38;5;124m and \u001b[39m\u001b[38;5;132;01m{1}\u001b[39;00m\u001b[38;5;124m targets\u001b[39m\u001b[38;5;124m\"\u001b[39m\u001b[38;5;241m.\u001b[39mformat(\n\u001b[0;32m     95\u001b[0m             type_true, type_pred\n\u001b[0;32m     96\u001b[0m         )\n\u001b[0;32m     97\u001b[0m     )\n\u001b[0;32m     99\u001b[0m \u001b[38;5;66;03m# We can't have more than one value on y_type => The set is no more needed\u001b[39;00m\n\u001b[0;32m    100\u001b[0m y_type \u001b[38;5;241m=\u001b[39m y_type\u001b[38;5;241m.\u001b[39mpop()\n",
      "\u001b[1;31mValueError\u001b[0m: Classification metrics can't handle a mix of multiclass and continuous targets"
     ]
    }
   ],
   "source": [
    "accuracy_score(ytest, ypredict3)"
   ]
  },
  {
   "cell_type": "code",
   "execution_count": null,
   "id": "4a3677ca",
   "metadata": {},
   "outputs": [],
   "source": []
  }
 ],
 "metadata": {
  "kernelspec": {
   "display_name": "Python 3 (ipykernel)",
   "language": "python",
   "name": "python3"
  },
  "language_info": {
   "codemirror_mode": {
    "name": "ipython",
    "version": 3
   },
   "file_extension": ".py",
   "mimetype": "text/x-python",
   "name": "python",
   "nbconvert_exporter": "python",
   "pygments_lexer": "ipython3",
   "version": "3.9.12"
  }
 },
 "nbformat": 4,
 "nbformat_minor": 5
}
